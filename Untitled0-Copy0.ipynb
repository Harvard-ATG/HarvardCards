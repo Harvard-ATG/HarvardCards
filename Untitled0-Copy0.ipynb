{
 "metadata": {
  "name": "Untitled0-Copy0"
 },
 "nbformat": 3,
 "nbformat_minor": 0,
 "worksheets": [
  {
   "cells": [
    {
     "cell_type": "heading",
     "level": 1,
     "metadata": {},
     "source": [
      "Unit Testing in Django"
     ]
    },
    {
     "cell_type": "raw",
     "metadata": {},
     "source": [
      "- Create a new file tests.py in the app folder (flash folder in harvardcards case)\n",
      "- Import functions from models, forms and views that need to be tested\n",
      "- Import relevant functions from django library"
     ]
    },
    {
     "cell_type": "code",
     "collapsed": false,
     "input": [
      "from django.http import HttpResponse\n",
      "from django.shortcuts import render, redirect\n",
      "from django.core.context_processors import csrf\n",
      "from django.core.exceptions import ViewDoesNotExist\n",
      "\n",
      "from django.utils import simplejson as json\n",
      "from django.test import TestCase\n",
      "from django.core.urlresolvers import reverse\n",
      "from django.forms.formsets import formset_factory\n",
      "from django.test.client import RequestFactory, Client\n",
      "\n",
      "from harvardcards.apps.flash.models import Collection, Deck, Field\n",
      "from harvardcards.apps.flash.forms import CollectionForm, FieldForm, DeckForm\n",
      "from harvardcards.apps.flash.views.collection import *"
     ],
     "language": "python",
     "metadata": {},
     "outputs": []
    },
    {
     "cell_type": "raw",
     "metadata": {},
     "source": [
      "- Create a class for each model that you want to test\n",
      "- The first function defined in each class should be setUp"
     ]
    },
    {
     "cell_type": "code",
     "collapsed": false,
     "input": [
      "class CollectionTest(TestCase):\n",
      "    def setUp(self):\n",
      "        # Every test needs access to the request factory.\n",
      "        self.factory = RequestFactory()\n",
      "        self.client = Client()"
     ],
     "language": "python",
     "metadata": {},
     "outputs": []
    },
    {
     "cell_type": "raw",
     "metadata": {},
     "source": [
      "- Each of the remaining function will comprise one or more tests"
     ]
    },
    {
     "cell_type": "code",
     "collapsed": false,
     "input": [
      "class CollectionTest(TestCase):\n",
      "    def setUp(self):\n",
      "        # Every test needs access to the request factory.\n",
      "        self.factory = RequestFactory()\n",
      "        self.client = Client()\n",
      "        \n",
      "    def test_collection_get(self):\n",
      "        ...\n",
      "\n",
      "    def test_collection_post(self):\n",
      "        ..."
     ],
     "language": "python",
     "metadata": {},
     "outputs": []
    },
    {
     "cell_type": "raw",
     "metadata": {},
     "source": [
      "Here are some examples of tests written for harvardcards:"
     ]
    },
    {
     "cell_type": "raw",
     "metadata": {},
     "source": [
      "Testing for the index page:"
     ]
    },
    {
     "cell_type": "code",
     "collapsed": false,
     "input": [
      "def test_index(self):\n",
      "        url = reverse('index')\n",
      "        response = self.client.get(url)\n",
      "        self.assertEqual(response.status_code, 200)\n",
      "        self.assertTemplateUsed(response, 'index.html')"
     ],
     "language": "python",
     "metadata": {},
     "outputs": []
    },
    {
     "cell_type": "raw",
     "metadata": {},
     "source": [
      "Testing for what should happen when you click on add a collection:"
     ]
    },
    {
     "cell_type": "code",
     "collapsed": false,
     "input": [
      "def test_collection_get(self):\n",
      "        url = reverse('create')\n",
      "        response = self.client.get(url)\n",
      "        self.assertEqual(response.status_code, 200)\n",
      "        self.assertTemplateUsed(response, 'collections/create.html')"
     ],
     "language": "python",
     "metadata": {},
     "outputs": []
    },
    {
     "cell_type": "raw",
     "metadata": {},
     "source": [
      "Testing for submission of collection creation form:"
     ]
    },
    {
     "cell_type": "code",
     "collapsed": false,
     "input": [
      "def test_collection_post(self):\n",
      "        # there should be no collections at the start\n",
      "        len_collection1 = len(Collection.objects.all())\n",
      "        self.assertEqual(len_collection1, 0)\n",
      "\n",
      "        # url for create collection\n",
      "        url = reverse('create')\n",
      "\n",
      "        # sample post data\n",
      "        post_data = {'field_data': '[{\"field_type\":\"T\",\"label\":\"\",\"sort_order\":0,\"display\":true},{\"field_type\":\"I\",\"label\":\"\",\"sort_order\":1,\"display\":true},{\"field_type\":\"T\",\"label\":\"\",\"sort_order\":2,\"display\":false}]', 'csrfmiddlewaretoken': '38vLxTwts8C4pUcFqoOgQAq3eXgAdpro', 'field_type1': 'text', 'description': 'lots of math', 'title': 'math 454'}\n",
      "\n",
      "        # response of posting the data at url\n",
      "        response = self.client.post(url, post_data)\n",
      "        # should redirect to index\n",
      "        self.assertEqual(response.status_code, 302)\n",
      "        self.assertTemplateNotUsed(response,'index.html')\n",
      "\n",
      "        # number of collections should be 1 now\n",
      "        len_collection2 = len(Collection.objects.all())\n",
      "        self.assertEqual(len_collection2, 1)\n",
      "        self.assertEqual(len_collection2-len_collection1, 1)"
     ],
     "language": "python",
     "metadata": {},
     "outputs": []
    },
    {
     "cell_type": "raw",
     "metadata": {},
     "source": [
      "Testing for Collection Form's validity"
     ]
    },
    {
     "cell_type": "code",
     "collapsed": false,
     "input": [
      "def test_collection_form(self):\n",
      "        post_data = {'field_data': '[{\"field_type\":\"T\",\"label\":\"\",\"sort_order\":0,\"display\":true},{\"field_type\":\"I\",\"label\":\"\",\"sort_order\":1,\"display\":true},{\"field_type\":\"T\",\"label\":\"\",\"sort_order\":2,\"display\":false}]', 'csrfmiddlewaretoken': '38vLxTwts8C4pUcFqoOgQAq3eXgAdpro', 'field_type1': 'text', 'description': 'lots of math', 'title': 'math 454'}\n",
      "        # testing the form\n",
      "        form = CollectionForm(post_data)\n",
      "        self.assertEqual(form.is_valid(), True)\n",
      "        form1 = CollectionForm({})\n",
      "        self.assertEqual(form1.is_valid(), False)"
     ],
     "language": "python",
     "metadata": {},
     "outputs": []
    }
   ],
   "metadata": {}
  }
 ]
}